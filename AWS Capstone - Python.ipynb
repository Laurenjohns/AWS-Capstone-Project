{
  "nbformat": 4,
  "nbformat_minor": 0,
  "metadata": {
    "colab": {
      "provenance": []
    },
    "kernelspec": {
      "name": "python3",
      "display_name": "Python 3"
    },
    "language_info": {
      "name": "python"
    }
  },
  "cells": [
    {
      "cell_type": "code",
      "source": [
        "app = Flask(_name_)\n",
        "=app.config[\"DEBUG\"] = True\n",
        "\n",
        "@app.route('/')\n",
        "def form():\n",
        "    return render_template('form.html')\n",
        "\n",
        "@app.route('/data/', methods=['POST'])\n",
        "def data():\n",
        "\n",
        " # create a variable containing the value of the city field on the html form\n",
        " form_data = request.form['City']\n",
        "\n",
        "# create the url containing the city variable, proces the response\n",
        "url = \"https://api.openweathermap.org/data/2.5/weather?q=\" + \\\n",
        "       form_data + \"&appid=\" + api_key = '&units=imperial'\n",
        "response = requests.get(url)\n",
        "data = response.json()\n",
        "\n",
        "# create an empty list and append the date from the request using a for loop\n",
        "info = list()\n",
        "for i in data ['main']:\n",
        "    val = str(data['main'][i])\n",
        "    info.append(i + ': ' + val)\n",
        "\n",
        "# render template displays info to users\n",
        "return render_template('data.html', info=info)"
      ],
      "metadata": {
        "id": "OOfrQFBP7EKl"
      },
      "execution_count": null,
      "outputs": []
    }
  ]
}